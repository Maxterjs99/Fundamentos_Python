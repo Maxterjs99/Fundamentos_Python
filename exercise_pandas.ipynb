{
 "cells": [
  {
   "cell_type": "code",
   "execution_count": 18,
   "metadata": {},
   "outputs": [],
   "source": [
    "import pandas as pd\n",
    "import numpy as np\n",
    "import matplotlib.pyplot as plt"
   ]
  },
  {
   "cell_type": "code",
   "execution_count": 16,
   "metadata": {},
   "outputs": [
    {
     "data": {
      "text/html": [
       "<div>\n",
       "<style scoped>\n",
       "    .dataframe tbody tr th:only-of-type {\n",
       "        vertical-align: middle;\n",
       "    }\n",
       "\n",
       "    .dataframe tbody tr th {\n",
       "        vertical-align: top;\n",
       "    }\n",
       "\n",
       "    .dataframe thead th {\n",
       "        text-align: right;\n",
       "    }\n",
       "</style>\n",
       "<table border=\"1\" class=\"dataframe\">\n",
       "  <thead>\n",
       "    <tr style=\"text-align: right;\">\n",
       "      <th></th>\n",
       "      <th>Fecha;Representante;CódigoProducto;Unidades</th>\n",
       "    </tr>\n",
       "  </thead>\n",
       "  <tbody>\n",
       "    <tr>\n",
       "      <th>0</th>\n",
       "      <td>1/1/2014;Valentina Tapia Castro;B00F3J4B5S;4</td>\n",
       "    </tr>\n",
       "    <tr>\n",
       "      <th>1</th>\n",
       "      <td>2/1/2014;Gabriela Rojas Huerta;B018IZ0SWI;2</td>\n",
       "    </tr>\n",
       "    <tr>\n",
       "      <th>2</th>\n",
       "      <td>2/1/2014;Carla Fernández Mendoza;B01DZJFWNC;1</td>\n",
       "    </tr>\n",
       "    <tr>\n",
       "      <th>3</th>\n",
       "      <td>2/1/2014;Luisa García López;B01DZJFWNC;2</td>\n",
       "    </tr>\n",
       "    <tr>\n",
       "      <th>4</th>\n",
       "      <td>2/1/2014;Juan Carlos Rodríguez Huamán;B016381Q...</td>\n",
       "    </tr>\n",
       "    <tr>\n",
       "      <th>5</th>\n",
       "      <td>3/1/2014;Ricardo Gómez Vargas;B00J0O5J4Y;2</td>\n",
       "    </tr>\n",
       "    <tr>\n",
       "      <th>6</th>\n",
       "      <td>3/1/2014;Diego Morales Castro;B01KBH547A;3</td>\n",
       "    </tr>\n",
       "    <tr>\n",
       "      <th>7</th>\n",
       "      <td>4/1/2014;Silvia Ramírez Rivera;B00K15Q2B0;15</td>\n",
       "    </tr>\n",
       "    <tr>\n",
       "      <th>8</th>\n",
       "      <td>4/1/2014;Laura Flores Guzmán;B00NQGP42Y;2</td>\n",
       "    </tr>\n",
       "    <tr>\n",
       "      <th>9</th>\n",
       "      <td>4/1/2014;Eduardo Cáceres Salazar;B00NQGP42Y;2</td>\n",
       "    </tr>\n",
       "  </tbody>\n",
       "</table>\n",
       "</div>"
      ],
      "text/plain": [
       "         Fecha;Representante;CódigoProducto;Unidades\n",
       "0       1/1/2014;Valentina Tapia Castro;B00F3J4B5S;4\n",
       "1        2/1/2014;Gabriela Rojas Huerta;B018IZ0SWI;2\n",
       "2      2/1/2014;Carla Fernández Mendoza;B01DZJFWNC;1\n",
       "3           2/1/2014;Luisa García López;B01DZJFWNC;2\n",
       "4  2/1/2014;Juan Carlos Rodríguez Huamán;B016381Q...\n",
       "5         3/1/2014;Ricardo Gómez Vargas;B00J0O5J4Y;2\n",
       "6         3/1/2014;Diego Morales Castro;B01KBH547A;3\n",
       "7       4/1/2014;Silvia Ramírez Rivera;B00K15Q2B0;15\n",
       "8          4/1/2014;Laura Flores Guzmán;B00NQGP42Y;2\n",
       "9      4/1/2014;Eduardo Cáceres Salazar;B00NQGP42Y;2"
      ]
     },
     "execution_count": 16,
     "metadata": {},
     "output_type": "execute_result"
    }
   ],
   "source": [
    "df = pd.read_csv('telefonos.csv', encoding='latin1')\n",
    "\n",
    "df.head(10)"
   ]
  }
 ],
 "metadata": {
  "kernelspec": {
   "display_name": "Python 3",
   "language": "python",
   "name": "python3"
  },
  "language_info": {
   "codemirror_mode": {
    "name": "ipython",
    "version": 3
   },
   "file_extension": ".py",
   "mimetype": "text/x-python",
   "name": "python",
   "nbconvert_exporter": "python",
   "pygments_lexer": "ipython3",
   "version": "3.11.9"
  }
 },
 "nbformat": 4,
 "nbformat_minor": 2
}
