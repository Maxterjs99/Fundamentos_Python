{
 "cells": [
  {
   "cell_type": "markdown",
   "metadata": {},
   "source": [
    "### Fundamentos de Python"
   ]
  },
  {
   "cell_type": "code",
   "execution_count": 3,
   "metadata": {},
   "outputs": [
    {
     "name": "stdout",
     "output_type": "stream",
     "text": [
      "Hello World pajuo\n"
     ]
    }
   ],
   "source": [
    "print(\"Hello World\" + \" pajuo\")"
   ]
  },
  {
   "cell_type": "code",
   "execution_count": 13,
   "metadata": {},
   "outputs": [],
   "source": [
    "# Variables\n",
    "name = \"John\"\n",
    "age = 10\n",
    "\n",
    "first_name = \"Kale\"\n",
    "fn = \"Kale\"\n",
    "# first-name  =  \"kale\"\n",
    "\n",
    "# anomalias malas practicas\n",
    "\n",
    "FirstName = \"Kale\"\n",
    "First_Name = \"Kale\"\n",
    "First_name = \"Kale\"\n",
    "# first.name = \"josefino\"\n",
    "\n",
    "# revisar el pep 8: guia de estilo de python\n",
    "\n"
   ]
  },
  {
   "cell_type": "code",
   "execution_count": 12,
   "metadata": {},
   "outputs": [
    {
     "name": "stdout",
     "output_type": "stream",
     "text": [
      "<class 'float'>\n",
      "<class 'str'>\n"
     ]
    }
   ],
   "source": [
    "# python como calculadora\n",
    "age = 10\n",
    "weight = 5\n",
    "height = 1.78\n",
    "\n",
    "sum = age + weight\n",
    "\n",
    "print( type( height ) )\n",
    "print( type( weight ) )\n",
    "print( type( first_name ) )"
   ]
  },
  {
   "cell_type": "code",
   "execution_count": 16,
   "metadata": {},
   "outputs": [
    {
     "name": "stdout",
     "output_type": "stream",
     "text": [
      "El tipo de dato de altura es:  <class 'float'>\n",
      "El tipo de dato de peso es:  <class 'int'>\n",
      "El tipo de dato de name es:  <class 'str'>\n"
     ]
    }
   ],
   "source": [
    "# formatos en print\n",
    "age = 10\n",
    "weight = 5\n",
    "height = 1.78\n",
    "\n",
    "sum = age + weight\n",
    "\n",
    "print( \"El tipo de dato de altura es: \", type( height ) )\n",
    "print( \"El tipo de dato de peso es: \", type( weight ) )\n",
    "print( \"El tipo de dato de name es: \", type( first_name ) )"
   ]
  },
  {
   "cell_type": "code",
   "execution_count": 18,
   "metadata": {},
   "outputs": [
    {
     "name": "stdout",
     "output_type": "stream",
     "text": [
      "altura:  <class 'float'>\n"
     ]
    }
   ],
   "source": [
    "age = float(age)\n",
    "type(age)\n",
    "\n",
    "height = float(height)\n",
    "print(\"altura: \", type(height))"
   ]
  },
  {
   "cell_type": "markdown",
   "metadata": {},
   "source": [
    "### Ciclos finitos"
   ]
  }
 ],
 "metadata": {
  "kernelspec": {
   "display_name": "Python 3",
   "language": "python",
   "name": "python3"
  },
  "language_info": {
   "codemirror_mode": {
    "name": "ipython",
    "version": 3
   },
   "file_extension": ".py",
   "mimetype": "text/x-python",
   "name": "python",
   "nbconvert_exporter": "python",
   "pygments_lexer": "ipython3",
   "version": "3.11.9"
  }
 },
 "nbformat": 4,
 "nbformat_minor": 2
}
