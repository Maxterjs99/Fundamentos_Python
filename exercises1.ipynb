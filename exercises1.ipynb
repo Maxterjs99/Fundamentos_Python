{
 "cells": [
  {
   "cell_type": "code",
   "execution_count": 10,
   "metadata": {},
   "outputs": [
    {
     "name": "stdout",
     "output_type": "stream",
     "text": [
      "1 1\n",
      "2 4\n",
      "3 9\n",
      "4 16\n",
      "5 25\n",
      "6 36\n",
      "7 49\n",
      "8 64\n",
      "9 81\n",
      "10 100\n",
      "11 121\n",
      "12 144\n",
      "13 169\n",
      "14 196\n",
      "15 225\n",
      "16 256\n",
      "17 289\n",
      "18 324\n",
      "19 361\n",
      "20 400\n"
     ]
    }
   ],
   "source": [
    "for i in range(20):\n",
    "    print(i+1, (i+1)*(i+1))"
   ]
  },
  {
   "cell_type": "code",
   "execution_count": 13,
   "metadata": {},
   "outputs": [
    {
     "name": "stdout",
     "output_type": "stream",
     "text": [
      "Juan -  1\n",
      "Juan -  2\n",
      "Juan -  3\n",
      "Juan -  4\n",
      "Juan -  5\n",
      "Juan -  6\n",
      "Juan -  7\n",
      "Juan -  8\n",
      "Juan -  9\n",
      "Juan -  10\n",
      "Juan -  11\n",
      "Juan -  12\n",
      "Juan -  13\n",
      "Juan -  14\n",
      "Juan -  15\n",
      "Juan -  16\n",
      "Juan -  17\n",
      "Juan -  18\n",
      "Juan -  19\n",
      "Juan -  20\n",
      "Juan -  21\n",
      "Juan -  22\n",
      "Juan -  23\n",
      "Juan -  24\n",
      "Juan -  25\n",
      "Juan -  26\n",
      "Juan -  27\n",
      "Juan -  28\n",
      "Juan -  29\n",
      "Juan -  30\n",
      "Juan -  31\n",
      "Juan -  32\n",
      "Juan -  33\n",
      "Juan -  34\n",
      "Juan -  35\n",
      "Juan -  36\n",
      "Juan -  37\n",
      "Juan -  38\n",
      "Juan -  39\n",
      "Juan -  40\n",
      "Juan -  41\n",
      "Juan -  42\n",
      "Juan -  43\n",
      "Juan -  44\n",
      "Juan -  45\n",
      "Juan -  46\n",
      "Juan -  47\n",
      "Juan -  48\n",
      "Juan -  49\n",
      "Juan -  50\n",
      "Juan -  51\n",
      "Juan -  52\n",
      "Juan -  53\n",
      "Juan -  54\n",
      "Juan -  55\n",
      "Juan -  56\n",
      "Juan -  57\n",
      "Juan -  58\n",
      "Juan -  59\n",
      "Juan -  60\n",
      "Juan -  61\n",
      "Juan -  62\n",
      "Juan -  63\n",
      "Juan -  64\n",
      "Juan -  65\n",
      "Juan -  66\n",
      "Juan -  67\n",
      "Juan -  68\n",
      "Juan -  69\n",
      "Juan -  70\n",
      "Juan -  71\n",
      "Juan -  72\n",
      "Juan -  73\n",
      "Juan -  74\n",
      "Juan -  75\n",
      "Juan -  76\n",
      "Juan -  77\n",
      "Juan -  78\n",
      "Juan -  79\n",
      "Juan -  80\n",
      "Juan -  81\n",
      "Juan -  82\n",
      "Juan -  83\n",
      "Juan -  84\n",
      "Juan -  85\n",
      "Juan -  86\n",
      "Juan -  87\n",
      "Juan -  88\n",
      "Juan -  89\n",
      "Juan -  90\n",
      "Juan -  91\n",
      "Juan -  92\n",
      "Juan -  93\n",
      "Juan -  94\n",
      "Juan -  95\n",
      "Juan -  96\n",
      "Juan -  97\n",
      "Juan -  98\n",
      "Juan -  99\n",
      "Juan -  100\n"
     ]
    }
   ],
   "source": [
    "for i in range(100):\n",
    "    print('Juan - ', i+1)"
   ]
  },
  {
   "cell_type": "code",
   "execution_count": 14,
   "metadata": {},
   "outputs": [
    {
     "name": "stdout",
     "output_type": "stream",
     "text": [
      "1 - Juan\n",
      "2 - Juan\n",
      "3 - Juan\n",
      "4 - Juan\n",
      "5 - Juan\n",
      "6 - Juan\n",
      "7 - Juan\n",
      "8 - Juan\n",
      "9 - Juan\n",
      "10 - Juan\n",
      "11 - Juan\n",
      "12 - Juan\n",
      "13 - Juan\n",
      "14 - Juan\n",
      "15 - Juan\n",
      "16 - Juan\n",
      "17 - Juan\n",
      "18 - Juan\n",
      "19 - Juan\n",
      "20 - Juan\n",
      "21 - Juan\n",
      "22 - Juan\n",
      "23 - Juan\n",
      "24 - Juan\n",
      "25 - Juan\n",
      "26 - Juan\n",
      "27 - Juan\n",
      "28 - Juan\n",
      "29 - Juan\n",
      "30 - Juan\n",
      "31 - Juan\n",
      "32 - Juan\n",
      "33 - Juan\n",
      "34 - Juan\n",
      "35 - Juan\n",
      "36 - Juan\n",
      "37 - Juan\n",
      "38 - Juan\n",
      "39 - Juan\n",
      "40 - Juan\n",
      "41 - Juan\n",
      "42 - Juan\n",
      "43 - Juan\n",
      "44 - Juan\n",
      "45 - Juan\n",
      "46 - Juan\n",
      "47 - Juan\n",
      "48 - Juan\n",
      "49 - Juan\n",
      "50 - Juan\n",
      "51 - Juan\n",
      "52 - Juan\n",
      "53 - Juan\n",
      "54 - Juan\n",
      "55 - Juan\n",
      "56 - Juan\n",
      "57 - Juan\n",
      "58 - Juan\n",
      "59 - Juan\n",
      "60 - Juan\n",
      "61 - Juan\n",
      "62 - Juan\n",
      "63 - Juan\n",
      "64 - Juan\n",
      "65 - Juan\n",
      "66 - Juan\n",
      "67 - Juan\n",
      "68 - Juan\n",
      "69 - Juan\n",
      "70 - Juan\n",
      "71 - Juan\n",
      "72 - Juan\n",
      "73 - Juan\n",
      "74 - Juan\n",
      "75 - Juan\n",
      "76 - Juan\n",
      "77 - Juan\n",
      "78 - Juan\n",
      "79 - Juan\n",
      "80 - Juan\n",
      "81 - Juan\n",
      "82 - Juan\n",
      "83 - Juan\n",
      "84 - Juan\n",
      "85 - Juan\n",
      "86 - Juan\n",
      "87 - Juan\n",
      "88 - Juan\n",
      "89 - Juan\n",
      "90 - Juan\n",
      "91 - Juan\n",
      "92 - Juan\n",
      "93 - Juan\n",
      "94 - Juan\n",
      "95 - Juan\n",
      "96 - Juan\n",
      "97 - Juan\n",
      "98 - Juan\n",
      "99 - Juan\n",
      "100 - Juan\n"
     ]
    }
   ],
   "source": [
    "for i in range(100):\n",
    "    print(i+1, '- Juan')"
   ]
  },
  {
   "cell_type": "code",
   "execution_count": 19,
   "metadata": {},
   "outputs": [
    {
     "name": "stdout",
     "output_type": "stream",
     "text": [
      "********************\n",
      "********************\n",
      "********************\n",
      "********************\n"
     ]
    }
   ],
   "source": [
    "for i in range(4):\n",
    "    print('*'*20)"
   ]
  },
  {
   "cell_type": "code",
   "execution_count": 21,
   "metadata": {},
   "outputs": [
    {
     "name": "stdout",
     "output_type": "stream",
     "text": [
      "********************\n",
      "*                  *\n",
      "*                  *\n",
      "********************\n"
     ]
    }
   ],
   "source": [
    "for i in range(5):\n",
    "    if i == 1 or i == 4 :\n",
    "        print('*'*20)\n",
    "    elif i == 2 or i == 3:\n",
    "        print('*' + ' '*18 + '*')"
   ]
  },
  {
   "cell_type": "code",
   "execution_count": 22,
   "metadata": {},
   "outputs": [
    {
     "name": "stdout",
     "output_type": "stream",
     "text": [
      "\n",
      "*\n",
      "**\n",
      "***\n",
      "****\n"
     ]
    }
   ],
   "source": [
    "for i in range(5):\n",
    "    print('*'*i)\n"
   ]
  },
  {
   "cell_type": "code",
   "execution_count": 26,
   "metadata": {},
   "outputs": [
    {
     "name": "stdout",
     "output_type": "stream",
     "text": [
      "*\n",
      "**\n",
      "***\n",
      "****\n"
     ]
    }
   ],
   "source": [
    "for i in range(5):\n",
    "    if i == 1:\n",
    "        print('*')\n",
    "    elif i == 2:\n",
    "        print('*'*2)\n",
    "    elif i == 3:\n",
    "        print('*'*3)\n",
    "    elif i == 4:\n",
    "        print('*'*4)"
   ]
  },
  {
   "cell_type": "code",
   "execution_count": 27,
   "metadata": {},
   "outputs": [
    {
     "name": "stdout",
     "output_type": "stream",
     "text": [
      "*\n",
      "**\n",
      "***\n",
      "****\n"
     ]
    }
   ],
   "source": [
    "for i in range(4):\n",
    "    print('*'*(i+1))"
   ]
  },
  {
   "cell_type": "code",
   "execution_count": null,
   "metadata": {},
   "outputs": [],
   "source": []
  }
 ],
 "metadata": {
  "kernelspec": {
   "display_name": "Python 3",
   "language": "python",
   "name": "python3"
  },
  "language_info": {
   "codemirror_mode": {
    "name": "ipython",
    "version": 3
   },
   "file_extension": ".py",
   "mimetype": "text/x-python",
   "name": "python",
   "nbconvert_exporter": "python",
   "pygments_lexer": "ipython3",
   "version": "3.11.9"
  }
 },
 "nbformat": 4,
 "nbformat_minor": 2
}
